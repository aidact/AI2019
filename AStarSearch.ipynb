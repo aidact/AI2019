{
 "cells": [
  {
   "cell_type": "code",
   "execution_count": 1,
   "metadata": {},
   "outputs": [],
   "source": [
    "import math"
   ]
  },
  {
   "cell_type": "code",
   "execution_count": 5,
   "metadata": {},
   "outputs": [],
   "source": [
    "tree = {'A': [['Z', 75], ['T', 118], ['S', 140]], # from Arad\n",
    "        'S': [['A', 140], ['F', 99], ['R', 80], ['O', 151]], # from Sibiu\n",
    "        'F': [['S', 99], ['B', 211]], # from Fagaras\n",
    "        'R': [['S', 80], ['P', 97], ['C', 146]], # from Remnicu Vilcea\n",
    "        'P': [['R', 3], ['B', 101], ['C', 138]]} # from Pitesti\n"
   ]
  },
  {
   "cell_type": "code",
   "execution_count": 6,
   "metadata": {},
   "outputs": [],
   "source": [
    "# heuristic value of each city\n",
    "heuristic = {'A': 336, 'T': 329, 'Z': 374, 'S': 253, 'F': 178, 'R': 193, 'O': 380, 'P': 98, 'C': 160, 'B': 0}\n",
    "\n",
    "cost = {'A': 0}  "
   ]
  },
  {
   "cell_type": "code",
   "execution_count": 10,
   "metadata": {},
   "outputs": [],
   "source": [
    "def AStarSearch():\n",
    "    global tree, heuristic\n",
    "    closed = []             # closed (already visited) nodes\n",
    "    opened = [['A', 336]]     # opened (available) nodes\n",
    "\n",
    "    '''find the visited nodes'''\n",
    "    while True: # while opened is not empty\n",
    "        fn = [i[1] for i in opened]     # f(n) = g(n) + h(n) (path cost + heuristic value)\n",
    "        chosen_index = fn.index(min(fn)) \n",
    "        \n",
    "        node = opened[chosen_index][0] # least f from opened\n",
    "        closed.append(opened[chosen_index]) # visit current node\n",
    "        del opened[chosen_index] # delete chosen node from available\n",
    "        \n",
    "        if closed[-1][0] == 'B':        # break the loop if node B has been found, -1 end of tree\n",
    "            break\n",
    "        for item in tree[node]:\n",
    "            if item[0] in [closed_item[0] for closed_item in closed]: # skip if visited\n",
    "                continue\n",
    "            cost.update({item[0]: cost[node] + item[1]})            # add nodes to cost dictionary\n",
    "            fn_node = cost[node] + heuristic[item[0]] + item[1]     # calculate f(n) of current node\n",
    "            temp = [item[0], fn_node]\n",
    "            opened.append(temp)                                     # store f(n) of current node in opened\n",
    "\n",
    "    '''find optimal sequence'''\n",
    "    trace_node = 'B'                        # goal state Bucharest\n",
    "    optimal_sequence = ['B']                # optimal node sequence\n",
    "    \n",
    "    for i in range(len(closed)-2, -1, -1):\n",
    "        check_node = closed[i][0]           # current node\n",
    "        \n",
    "        if trace_node in [children[0] for children in tree[check_node]]: # check if current node is a goal\n",
    "            children_costs = [temp[1] for temp in tree[check_node]] # f(current node)\n",
    "            children_nodes = [temp[0] for temp in tree[check_node]] # current node\n",
    "\n",
    "            '''check whether h(s) + g(s) = f(s) => append current node to optimal sequence\n",
    "            change the correct optimal tracing node to current node'''\n",
    "            if cost[check_node] + children_costs[children_nodes.index(trace_node)] == cost[trace_node]:\n",
    "                optimal_sequence.append(check_node)\n",
    "                trace_node = check_node\n",
    "    optimal_sequence.reverse()              # reverse the optimal sequence\n",
    "\n",
    "    return closed, optimal_sequence\n",
    "\n"
   ]
  },
  {
   "cell_type": "code",
   "execution_count": 11,
   "metadata": {},
   "outputs": [
    {
     "name": "stdout",
     "output_type": "stream",
     "text": [
      "visited nodes: [['A', 336], ['S', 393], ['R', 413], ['P', 415], ['F', 417], ['B', 418]]\n",
      "optimal path: ['A', 'S', 'F', 'B']\n"
     ]
    }
   ],
   "source": [
    "if __name__ == '__main__':\n",
    "    \n",
    "    visited_nodes, optimal_nodes = AStarSearch()\n",
    "    \n",
    "    print('visited nodes: ' + str(visited_nodes)) # list of visited nodes\n",
    "    print('optimal path: ' + str(optimal_nodes)) # chosen path"
   ]
  },
  {
   "cell_type": "code",
   "execution_count": null,
   "metadata": {},
   "outputs": [],
   "source": []
  }
 ],
 "metadata": {
  "kernelspec": {
   "display_name": "Python 3",
   "language": "python",
   "name": "python3"
  },
  "language_info": {
   "codemirror_mode": {
    "name": "ipython",
    "version": 3
   },
   "file_extension": ".py",
   "mimetype": "text/x-python",
   "name": "python",
   "nbconvert_exporter": "python",
   "pygments_lexer": "ipython3",
   "version": "3.6.5"
  }
 },
 "nbformat": 4,
 "nbformat_minor": 2
}
